{
 "cells": [
  {
   "cell_type": "markdown",
   "id": "30b4133b-5e6a-4e09-925e-635b25852509",
   "metadata": {},
   "source": [
    "- A simple RBF kernel based GP is trained on ~20k-30k data points (we use tinygp to train the model)\n",
    "- Train-test split of data is done randomly and by drill-hole.\n",
    "- Prediction on grid is done by using "
   ]
  },
  {
   "cell_type": "markdown",
   "id": "766a67d7-aad6-478f-b95e-c1416dd4c887",
   "metadata": {},
   "source": [
    "# Load Libraries"
   ]
  },
  {
   "cell_type": "code",
   "execution_count": 1,
   "id": "71b22cd8-25cd-4d8b-90a8-da3e1f03cf45",
   "metadata": {},
   "outputs": [],
   "source": [
    "# Configure JAX\n",
    "\n",
    "import os\n",
    "\n",
    "# os.environ[\"JAX_PLATFORM_NAME\"] = \"cpu\"\n",
    "# os.environ[\"XLA_FLAGS\"] = '--xla_force_host_platform_device_count=31' # Use all CPU devices\n",
    "os.environ[\"XLA_PYTHON_CLIENT_ALLOCATOR\"] = (\n",
    "    \"platform\"  # Useful for limiting memory but maybe slows things down\n",
    ")"
   ]
  },
  {
   "cell_type": "code",
   "execution_count": 2,
   "id": "9b6b3fcf-4f41-4cd2-ba5e-1c897d3c4755",
   "metadata": {},
   "outputs": [],
   "source": [
    "import sys\n",
    "\n",
    "sys.path.append(\"../src/\")"
   ]
  },
  {
   "cell_type": "code",
   "execution_count": 3,
   "id": "50ace2c2-d3f5-408d-8932-8d1c6ff1f41f",
   "metadata": {},
   "outputs": [],
   "source": [
    "import sys\n",
    "\n",
    "sys.path.append(\"../src/\")\n",
    "\n",
    "import jax\n",
    "import jax.numpy as jnp\n",
    "import jaxopt\n",
    "import matplotlib.pyplot as plt\n",
    "import numpy as np\n",
    "import pandas as pd\n",
    "import tinygp\n",
    "from sklearn.model_selection import train_test_split\n",
    "from sklearn.preprocessing import MinMaxScaler, StandardScaler\n",
    "from tinygp import GaussianProcess, kernels, transforms\n",
    "from tqdm.notebook import tqdm\n",
    "\n",
    "from geostax.utils.model import batch_predict, batch_sample\n",
    "\n",
    "# Get JAX devices for simplicity\n",
    "\n",
    "cpus = jax.devices(\"cpu\")\n",
    "gpus = jax.devices(\"gpu\")"
   ]
  },
  {
   "cell_type": "code",
   "execution_count": 4,
   "id": "7ee3e567-c875-4d20-8a21-efdad1d452d2",
   "metadata": {},
   "outputs": [],
   "source": [
    "# Control variables\n",
    "\n",
    "TRAIN_YEAR = 2019\n",
    "BATCH_SIZE = 1000\n",
    "NOISE = 5e-2\n",
    "CPU_DEVICE = cpus[0]\n",
    "GPU_DEVICE = gpus[1]"
   ]
  },
  {
   "cell_type": "code",
   "execution_count": 5,
   "id": "3fe2b28c-419a-4ed7-8e2f-d22b2b91e9fb",
   "metadata": {},
   "outputs": [],
   "source": [
    "# Modify the default jax device\n",
    "\n",
    "jax.default_backend = GPU_DEVICE"
   ]
  },
  {
   "cell_type": "markdown",
   "id": "af5b2400-6902-4ed0-bde0-f540b9110a7a",
   "metadata": {},
   "source": [
    "### Preprocessing"
   ]
  },
  {
   "cell_type": "code",
   "execution_count": 6,
   "id": "5bb153d9-9543-457a-a0c5-232b145d29d0",
   "metadata": {},
   "outputs": [],
   "source": [
    "# Load the datasets\n",
    "\n",
    "xyz_grid = np.load(\"../cache/xyz_grid.npy\")\n",
    "df_assay_coords = pd.read_parquet(\"../cache/df_assay_coords.parquet\")\n",
    "\n",
    "# Remove NAs\n",
    "\n",
    "df_assay_coords_filt = df_assay_coords.dropna().reset_index(drop=True)"
   ]
  },
  {
   "cell_type": "code",
   "execution_count": 7,
   "id": "156a024d-ab87-4cd6-a288-34af8bcacbc1",
   "metadata": {},
   "outputs": [],
   "source": [
    "# Normalization function for x, y and z\n",
    "# I want each axis to be scaled between -1 and +1\n",
    "\n",
    "x_scaler = MinMaxScaler().fit(xyz_grid[:, 0].reshape(-1, 1))\n",
    "y_scaler = MinMaxScaler().fit(xyz_grid[:, 1].reshape(-1, 1))\n",
    "z_scaler = MinMaxScaler().fit(xyz_grid[:, 2].reshape(-1, 1))"
   ]
  },
  {
   "cell_type": "code",
   "execution_count": 8,
   "id": "44e7d855-373b-43b6-95ca-3524e93cec14",
   "metadata": {},
   "outputs": [],
   "source": [
    "# Normalize the grid\n",
    "\n",
    "xyz_grid_norm = np.hstack(\n",
    "    [\n",
    "        x_scaler.transform(xyz_grid[:, 0].reshape(-1, 1)),\n",
    "        y_scaler.transform(xyz_grid[:, 1].reshape(-1, 1)),\n",
    "        z_scaler.transform(xyz_grid[:, 2].reshape(-1, 1)),\n",
    "    ]\n",
    ")"
   ]
  },
  {
   "cell_type": "code",
   "execution_count": 9,
   "id": "f4f8692e-6b11-4435-9549-56e4c9932922",
   "metadata": {},
   "outputs": [],
   "source": [
    "# Now normalize the x, y, z of the observation locations\n",
    "\n",
    "df_assay_coords_filt.loc[:, \"x_inf_norm\"] = x_scaler.transform(\n",
    "    df_assay_coords_filt[\"x_inf\"].to_numpy().reshape(-1, 1)\n",
    ")\n",
    "df_assay_coords_filt.loc[:, \"y_inf_norm\"] = y_scaler.transform(\n",
    "    df_assay_coords_filt[\"y_inf\"].to_numpy().reshape(-1, 1)\n",
    ")\n",
    "df_assay_coords_filt.loc[:, \"z_inf_norm\"] = z_scaler.transform(\n",
    "    df_assay_coords_filt[\"z_inf\"].to_numpy().reshape(-1, 1)\n",
    ")"
   ]
  },
  {
   "cell_type": "code",
   "execution_count": 10,
   "id": "690adbfa-35e1-455b-8f4d-6036c3e91f79",
   "metadata": {},
   "outputs": [],
   "source": [
    "# Load collars data for spatial stratification etc.\n",
    "\n",
    "df_collars = pd.read_excel(\n",
    "    \"../data/filo/filo_del_sol_drillhole_data_june_10_2024.xlsx\", sheet_name=\"Collars\"\n",
    ")\n",
    "df_collars[\"season_start\"] = df_collars[\"Season\"].str.split(\"/\").str[0]  # .astype(int)\n",
    "df_collars[\"season_start\"] = df_collars[\"season_start\"].astype(float)\n",
    "df_collars[\"season_end\"] = df_collars[\"Season\"].str.split(\"/\").str[1]  # .astype(int)\n",
    "df_collars[\"season_end\"] = df_collars[\"season_end\"].astype(float)"
   ]
  },
  {
   "cell_type": "markdown",
   "id": "61e2cb15-e692-442e-93e4-42ab6f5b3d31",
   "metadata": {},
   "source": [
    "### Gaussian Process Fitting Process"
   ]
  },
  {
   "cell_type": "code",
   "execution_count": 11,
   "id": "3c50d305-eada-4ebe-9c4e-7761f4f88450",
   "metadata": {},
   "outputs": [],
   "source": [
    "# Need a train-test splitting procedure with the following:\n",
    "\n",
    "# 0. Randomly stratify observations (ultra-naive)\n",
    "# 1. Randomly stratify drillholes (naive)\n",
    "# 2. Spatially stratify drillholes (level 1)\n",
    "# 3. Temporally stratify drillholes (level 2)\n",
    "# 4. Spatiotemporally stratify drillholes (level 3)"
   ]
  },
  {
   "cell_type": "code",
   "execution_count": 12,
   "id": "d516b937-9f15-4791-9b5d-da34aab31fd9",
   "metadata": {},
   "outputs": [],
   "source": [
    "# Filter the dataframe\n",
    "\n",
    "df_raw = df_assay_coords_filt.loc[\n",
    "    :, [\"HOLE-ID\", \"x_inf_norm\", \"y_inf_norm\", \"z_inf_norm\", \"Cu %\"]\n",
    "]"
   ]
  },
  {
   "cell_type": "code",
   "execution_count": 13,
   "id": "6ab4900b-e96e-411d-8d5d-97f2061dcaf7",
   "metadata": {},
   "outputs": [
    {
     "data": {
      "image/png": "[encoded data removed]",
      "text/plain": [
       "<Figure size 2000x600 with 1 Axes>"
      ]
     },
     "metadata": {},
     "output_type": "display_data"
    }
   ],
   "source": [
    "# Exploration of how many holes were drilled with time\n",
    "\n",
    "plt.figure(figsize=(10, 3), dpi=200)\n",
    "plt.plot(df_collars[\"season_start\"], df_collars[\"Length (m)\"], \"ro\", alpha=0.30)\n",
    "plt.ylabel(\"Drill Hole Length (m)\")\n",
    "plt.xlabel(\"Year\")\n",
    "plt.grid(alpha=0.10)"
   ]
  },
  {
   "cell_type": "code",
   "execution_count": 14,
   "id": "d835030e-dfd2-4c3a-a2e5-d6e39a7d8e43",
   "metadata": {},
   "outputs": [],
   "source": [
    "# # Method 1: Use all the holes before 2015 to train the model, and predict on everything after 2015\n",
    "\n",
    "# train_cond = df_collars[\"season_start\"] <= float(TRAIN_YEAR)\n",
    "# test_cond = df_collars[\"season_start\"] > float(TRAIN_YEAR)\n",
    "# train_holes = df_collars.loc[train_cond, \"HOLE-ID\"].tolist()\n",
    "# test_holes = df_collars.loc[test_cond, \"HOLE-ID\"].tolist()\n",
    "# # test_holes = [hole for hole in test_holes if hole not in train_holes]"
   ]
  },
  {
   "cell_type": "code",
   "execution_count": 15,
   "id": "0309f8d1-0c50-447c-a241-bf953d331508",
   "metadata": {},
   "outputs": [],
   "source": [
    "# Method 2: Use all the holes before 2015 to train the model, and predict on everything after 2015\n",
    "\n",
    "# train_cond = df_collars[\"season_start\"] <= 2018\n",
    "# test_cond = df_collars[\"season_start\"] > 2018\n",
    "# # train_index = np.sort(np.random.choice(np.arange(0, df_raw.shape[0]), 500, replace=False))\n",
    "# # test_cond = df_collars[\"season_start\"] == 2022\n",
    "# train_holes = df_collars.loc[train_cond, \"HOLE-ID\"].to_numpy()\n",
    "# test_holes = df_collars.loc[test_cond, \"HOLE-ID\"].to_numpy()"
   ]
  },
  {
   "cell_type": "code",
   "execution_count": 16,
   "id": "d4fca51a-ef76-4943-9305-78e6975d8232",
   "metadata": {},
   "outputs": [
    {
     "name": "stdout",
     "output_type": "stream",
     "text": [
      "22403\n",
      "36553\n"
     ]
    }
   ],
   "source": [
    "# Method 3: Random splitting data\n",
    "# 0.34 for 20000\n",
    "\n",
    "df_train, df_test = train_test_split(df_raw, train_size=0.38, random_state=50)\n",
    "print(df_train.shape[0])\n",
    "print(df_test.shape[0])"
   ]
  },
  {
   "cell_type": "code",
   "execution_count": 17,
   "id": "da4dabdd-4755-43d5-aed6-110330b1f001",
   "metadata": {},
   "outputs": [],
   "source": [
    "# # Get train and test data by filtering for respective holes\n",
    "\n",
    "# df_train = df_raw.loc[df_raw[\"HOLE-ID\"].isin(train_holes), :]\n",
    "# df_test = df_raw.loc[df_raw[\"HOLE-ID\"].isin(test_holes), :]\n",
    "\n",
    "# print(df_train.shape[0])\n",
    "# print(df_test.shape[0])"
   ]
  },
  {
   "cell_type": "code",
   "execution_count": 18,
   "id": "9cb56a66-28c4-4b2c-90b6-97839e161039",
   "metadata": {},
   "outputs": [],
   "source": [
    "# # Quick analysis of number of samples per hole?\n",
    "\n",
    "# df_assay_hole = df_assay_coords_filt.groupby(\"HOLE-ID\")[\"Cu %\"].count().reset_index()\n",
    "# df_assay_hole = pd.merge(df_collars, df_assay_hole, on=\"HOLE-ID\", how=\"left\")\n",
    "# df_assay_hole = df_assay_hole.groupby(\"season_start\")[\"Cu %\"].sum().reset_index()\n",
    "# df_assay_hole"
   ]
  },
  {
   "cell_type": "markdown",
   "id": "a87a7062-61e3-4f50-b6e4-29117c5d2d70",
   "metadata": {},
   "source": [
    "### Simple kriging model"
   ]
  },
  {
   "cell_type": "code",
   "execution_count": 19,
   "id": "602ceb6d-f780-4679-ba75-5c03c40217fd",
   "metadata": {},
   "outputs": [
    {
     "name": "stderr",
     "output_type": "stream",
     "text": [
      "2024-10-14 22:09:11.761573: W external/xla/xla/service/gpu/nvptx_compiler.cc:893] The NVIDIA driver's CUDA version is 12.4 which is older than the PTX compiler version 12.6.68. Because the driver is older than the PTX compiler version, XLA is disabling parallel compilation, which may slow down compilation. You should update your NVIDIA driver or use the NVIDIA-provided CUDA forward compatibility packages.\n"
     ]
    }
   ],
   "source": [
    "# Get the variables of interest ready to go\n",
    "\n",
    "FEATURES = [\"x_inf_norm\", \"y_inf_norm\", \"z_inf_norm\"]\n",
    "TARGET = [\"Cu %\"]\n",
    "\n",
    "# Training and test data split\n",
    "# It is good to use numpy for now because it lets us store the data on CPU RAM for now\n",
    "# When ready to move to GPU, we can use jax.device_put to move these to GPU\n",
    "\n",
    "X_train = df_train[FEATURES].to_numpy()\n",
    "y_train = df_train[TARGET].to_numpy()\n",
    "X_test = df_test[FEATURES].to_numpy()\n",
    "y_test = df_test[TARGET].to_numpy()\n",
    "\n",
    "# Scale y train and test\n",
    "\n",
    "target_scaler = StandardScaler().fit(np.log(y_train.reshape(-1, 1)))\n",
    "y_train_sc = target_scaler.transform(np.log(y_train.reshape(-1, 1)))\n",
    "y_test_sc = target_scaler.transform(np.log(y_test.reshape(-1, 1)))\n",
    "\n",
    "# Move X_train and y_train to GPUs\n",
    "\n",
    "X_train = jax.device_put(jnp.array(X_train), device=GPU_DEVICE)\n",
    "y_train_sc = jax.device_put(jnp.array(y_train_sc), device=GPU_DEVICE)"
   ]
  },
  {
   "cell_type": "code",
   "execution_count": 20,
   "id": "b963571a-f5ba-4ef7-87fb-85baf2279a32",
   "metadata": {},
   "outputs": [],
   "source": [
    "# GP kernel definition\n",
    "\n",
    "\n",
    "def build_gp(params):\n",
    "\n",
    "    kernel = jnp.exp(params[\"log_amp\"]) * transforms.Linear(\n",
    "        -1 * jnp.exp(params[\"log_scale\"]), kernels.ExpSquared()\n",
    "    )\n",
    "\n",
    "    # noise = tinygp.noise.Diagonal(jnp.exp(params[\"log_noise\"]))\n",
    "\n",
    "    return GaussianProcess(kernel, X_train, diag=jnp.exp(params[\"log_noise\"]))\n",
    "\n",
    "def loss(params):\n",
    "    return -build_gp(params).log_probability(y_train_sc.flatten())\n",
    "\n",
    "loss = jax.jit(loss, device=GPU_DEVICE)\n",
    "\n",
    "def train_gp(init_params):\n",
    "\n",
    "    solver = jaxopt.ScipyMinimize(fun=loss, maxiter=10000)\n",
    "    print(\"Initial Marginal Likelihood: \", loss(init_params))\n",
    "    soln = solver.run(init_params)\n",
    "    print(\"Final Marginal Likelihood: \", loss(soln.params))\n",
    "    return build_gp(soln.params)"
   ]
  },
  {
   "cell_type": "code",
   "execution_count": 21,
   "id": "520058f2-2f13-4345-ba33-7c6f5c7c5967",
   "metadata": {},
   "outputs": [],
   "source": [
    "# # Sample from GP prior\n",
    "\n",
    "# params = {\n",
    "#     \"log_amp\": np.float64(0.),\n",
    "#     \"log_scale\": np.ones(3)*1,\n",
    "# }\n",
    "# gp_prior = build_gp(params)\n",
    "# samples = gp_prior.sample(jax.random.PRNGKey(42), shape=(10, ))\n",
    "\n",
    "# # Visualize samples from GP prior\n",
    "\n",
    "# test_sample = samples[0, :]\n",
    "# plt.figure(figsize=(10, 6))\n",
    "# plt.subplot(3, 1, 1)\n",
    "# plt.plot(X_train[:, 0], test_sample, \"or\", markersize=1)\n",
    "# plt.subplot(3, 1, 2)\n",
    "# plt.plot(X_train[:, 1], test_sample, \"ob\", markersize=1)\n",
    "# plt.subplot(3, 1, 3)\n",
    "# plt.plot(X_train[:, 2], test_sample, \"ok\", markersize=1)"
   ]
  },
  {
   "cell_type": "code",
   "execution_count": null,
   "id": "50780db9-4342-464c-9ce6-86eaeb27d96b",
   "metadata": {},
   "outputs": [
    {
     "name": "stdout",
     "output_type": "stream",
     "text": [
      "Initial Marginal Likelihood:  90243.625\n"
     ]
    }
   ],
   "source": [
    "%%time\n",
    "\n",
    "init_params = {\n",
    "    \"log_amp\": jax.device_put(0., GPU_DEVICE),\n",
    "    \"log_scale\": jax.device_put(jnp.zeros(3), GPU_DEVICE),\n",
    "    \"log_noise\": jax.device_put(jnp.log(NOISE), GPU_DEVICE)\n",
    "    # \"log_noise\": jnp.broadcast_to(-3., shape=y_train_sc.flatten().shape),\n",
    "}\n",
    "gp_model = train_gp(init_params)"
   ]
  },
  {
   "cell_type": "code",
   "execution_count": null,
   "id": "9591afb4-9c65-4cac-9e0f-569018824f69",
   "metadata": {},
   "outputs": [],
   "source": [
    "# Print final hyperparameter values\n",
    "\n",
    "print(gp_model.kernel.kernel1.value)\n",
    "print(gp_model.kernel.kernel2.scale)\n",
    "print(gp_model.noise.diag)"
   ]
  },
  {
   "cell_type": "code",
   "execution_count": null,
   "id": "ed1578f4-520d-497b-ba0f-be40690c7a86",
   "metadata": {},
   "outputs": [],
   "source": [
    "%%time\n",
    "\n",
    "# Prediction on the training data\n",
    "\n",
    "# # Full-batch approach\n",
    "# cond_gp = uncorr_gp.condition(y_train_sc.flatten(), X_train).gp\n",
    "# y_train_mean = cond_gp.mean\n",
    "# y_train_std = np.sqrt(cond_gp.variance)\n",
    "\n",
    "y_train_mean, y_train_std = batch_predict(\n",
    "    X_train,\n",
    "    gp_model,\n",
    "    y_train_sc,\n",
    "    batch_size=BATCH_SIZE,\n",
    "    cpu_device=CPU_DEVICE,\n",
    "    gpu_device=GPU_DEVICE,\n",
    ")"
   ]
  },
  {
   "cell_type": "code",
   "execution_count": null,
   "id": "30b4be89-50a4-47d5-a8c4-e3164b1554f5",
   "metadata": {},
   "outputs": [],
   "source": [
    "# Prediction on the test data\n",
    "\n",
    "y_test_mean, y_test_std = batch_predict(\n",
    "    X_test,\n",
    "    gp_model,\n",
    "    y_train_sc,\n",
    "    batch_size=BATCH_SIZE,\n",
    "    cpu_device=CPU_DEVICE,\n",
    "    gpu_device=GPU_DEVICE,\n",
    ")"
   ]
  },
  {
   "cell_type": "code",
   "execution_count": null,
   "id": "541f5623-216d-45c6-9b65-3fe986eca390",
   "metadata": {},
   "outputs": [],
   "source": [
    "# Rescale predictions for both train, test and std\n",
    "\n",
    "y_train_mean_orig = np.exp(target_scaler.inverse_transform(y_train_mean.reshape(-1, 1)))\n",
    "y_train_std_orig = np.exp(target_scaler.inverse_transform(y_train_std.reshape(-1, 1)))\n",
    "y_test_mean_orig = np.exp(target_scaler.inverse_transform(y_test_mean.reshape(-1, 1)))\n",
    "y_test_std_orig = np.exp(target_scaler.inverse_transform(y_test_std.reshape(-1, 1)))"
   ]
  },
  {
   "cell_type": "markdown",
   "id": "80a78cb3-ffc2-474f-be06-ae9bf18e5b52",
   "metadata": {},
   "source": [
    "# Plot Results (for quick feedback)"
   ]
  },
  {
   "cell_type": "code",
   "execution_count": null,
   "id": "abba1580-aa9b-468a-8486-6804cd12d1c5",
   "metadata": {},
   "outputs": [],
   "source": [
    "y_max = np.max([y_train_mean_orig.max(), y_train.max()])\n",
    "plt.figure(figsize=(3, 3), dpi=300)\n",
    "# plt.vlines(\n",
    "#     y_train,\n",
    "#     y_train_mean_orig - 1.96 * y_train_std_orig,\n",
    "#     y_train_mean_orig + 1.96 * y_train_std_orig,\n",
    "#     colors=\"grey\",\n",
    "#     alpha=0.01,\n",
    "#     linewidth=0.9\n",
    "# )\n",
    "plt.scatter(y_train, y_train_mean_orig, \n",
    "            s=8.0, c=\"b\", alpha=0.50, ec=\"k\", linewidths=0.20)\n",
    "plt.plot([0, y_max], [0, y_max], \"k-\", alpha=1.0, linewidth=0.5)\n",
    "plt.xlabel(\"Actual\")\n",
    "plt.ylabel(\"Predicted\")\n",
    "plt.grid(alpha=0.10)\n",
    "plt.title(\"Cu %: Predicted from GP vs. Actual (Training)\")"
   ]
  },
  {
   "cell_type": "code",
   "execution_count": null,
   "id": "8772deea-007a-495f-81f9-69942e2196b0",
   "metadata": {},
   "outputs": [],
   "source": [
    "y_max = np.max([y_test_mean_orig.max(), y_test.max()])\n",
    "plt.figure(figsize=(3, 3), dpi=300)\n",
    "# plt.vlines(\n",
    "#     y_test,\n",
    "#     y_test_mean_orig - 1.96 * y_test_std_orig,\n",
    "#     y_test_mean_orig + 1.96 * y_test_std_orig,\n",
    "#     colors=\"grey\",\n",
    "#     alpha=0.1,\n",
    "# )\n",
    "plt.scatter(y_test, y_test_mean_orig, \n",
    "            s=8.0, c=\"r\", alpha=0.50, ec=\"k\", linewidths=0.20)\n",
    "plt.plot([0, y_max], [0, y_max], \"k-\", alpha=1.0, linewidth=0.5)\n",
    "plt.xlabel(\"Actual\")\n",
    "plt.ylabel(\"Predicted\")\n",
    "plt.grid(alpha=0.10)\n",
    "plt.title(\"Cu %: Predicted from GP vs. Actual (Test)\")"
   ]
  },
  {
   "cell_type": "markdown",
   "id": "40b150c6-6f90-4c2b-b7b8-f64802bb02be",
   "metadata": {},
   "source": [
    "# Save Results to disk"
   ]
  },
  {
   "cell_type": "code",
   "execution_count": null,
   "id": "75b20b16-46e2-45c6-8313-d2503f7e8c1c",
   "metadata": {},
   "outputs": [],
   "source": [
    "# Combine train and test dataframes and save to disk\n",
    "\n",
    "df_train[\"pred_sc\"] = y_train_mean_orig\n",
    "df_train[\"pred_sc_sd\"] = y_train_std_orig\n",
    "df_train[\"label\"] = \"train\"\n",
    "df_test[\"pred_sc\"] = y_test_mean_orig\n",
    "df_test[\"pred_sc_sd\"] = y_test_std_orig\n",
    "df_test[\"label\"] = \"test\"\n",
    "\n",
    "df_preds = pd.concat([df_train, df_test]).reset_index(drop=True)\n",
    "df_preds[\"preds\"] = np.exp(\n",
    "    target_scaler.inverse_transform(df_preds[\"pred_sc\"].to_numpy().reshape((1, -1)))\n",
    ").flatten()\n",
    "df_preds[\"preds_sd\"] = np.exp(\n",
    "    target_scaler.inverse_transform(df_preds[\"pred_sc_sd\"].to_numpy().reshape((1, -1)))\n",
    ").flatten()\n",
    "\n",
    "df_preds.to_csv(\"../cache/df_preds.csv\", index=False)"
   ]
  },
  {
   "cell_type": "markdown",
   "id": "b01ce552-e1df-4ec1-9ef4-8727b26700bb",
   "metadata": {},
   "source": [
    "# Predict on all of normalized grid for paraview"
   ]
  },
  {
   "cell_type": "code",
   "execution_count": null,
   "id": "789fcac5-56ad-4a05-b491-c3cbe7a36b5d",
   "metadata": {},
   "outputs": [],
   "source": [
    "# Make xyz_grid_norm a jax.numpy array and store on CPU\n",
    "\n",
    "xyz_grid_norm = jnp.array(xyz_grid_norm, device=cpus[0])\n",
    "print(xyz_grid_norm.device)"
   ]
  },
  {
   "cell_type": "code",
   "execution_count": null,
   "id": "ea1f01e2-92c7-4b4a-a41c-1c347dcf97c0",
   "metadata": {},
   "outputs": [],
   "source": [
    "# Predict on the grid\n",
    "\n",
    "y_grid_mean, y_grid_std = batch_predict(\n",
    "    xyz_grid_norm,\n",
    "    gp_model,\n",
    "    y_train_sc,\n",
    "    batch_size=BATCH_SIZE,\n",
    "    cpu_device=CPU_DEVICE,\n",
    "    gpu_device=GPU_DEVICE,\n",
    ")"
   ]
  },
  {
   "cell_type": "code",
   "execution_count": null,
   "id": "710de407-e3aa-4a45-8ef2-6aae8e96ae79",
   "metadata": {},
   "outputs": [],
   "source": [
    "# Re-scale to original units\n",
    "\n",
    "y_grid_mean_orig = np.exp(target_scaler.inverse_transform(y_grid_mean.reshape(-1, 1)))\n",
    "y_grid_std_orig = np.exp(target_scaler.inverse_transform(y_grid_std.reshape(-1, 1)))"
   ]
  },
  {
   "cell_type": "code",
   "execution_count": null,
   "id": "32e90b72-a75d-4491-a6fe-f6fce05375b6",
   "metadata": {},
   "outputs": [],
   "source": [
    "plt.figure(figsize=(6, 3), dpi=200)\n",
    "plt.hist(y_grid_mean_orig, bins=30, log=True, ec=\"k\", fc=\"brown\", alpha=0.9)\n",
    "plt.xlabel(\"Mean Cu (%)\")\n",
    "plt.title(\"Grid: Mean Copper composition (%)\")"
   ]
  },
  {
   "cell_type": "code",
   "execution_count": null,
   "id": "eedffb6d-cfd7-4c0e-acef-2be98059c3c3",
   "metadata": {},
   "outputs": [],
   "source": [
    "plt.figure(figsize=(6, 3), dpi=200)\n",
    "plt.hist(y_grid_std_orig, bins=30, log=True, ec=\"k\", fc=\"grey\", alpha=0.8)\n",
    "plt.xlabel(\"Standard Deviation\")\n",
    "plt.title(\"Grid: Standard Deviation of Copper composition (%)\")"
   ]
  },
  {
   "cell_type": "code",
   "execution_count": null,
   "id": "6c86a96e-7528-40d3-82a8-d48f51bcb520",
   "metadata": {},
   "outputs": [],
   "source": [
    "plt.figure(figsize=(6, 3), dpi=200)\n",
    "plt.scatter(y_grid_mean_orig, y_grid_std_orig, \n",
    "            fc=\"green\", s=2.0, alpha=0.50, ec=\"k\", linewidths=0.05)\n",
    "plt.xlabel(\"Mean Cu Composition (%)\")\n",
    "plt.ylabel(\"Standard Deviation\")\n",
    "plt.title(\"Grid: Standard Deviation of Copper composition (%)\")\n",
    "plt.grid(alpha=0.10)"
   ]
  },
  {
   "cell_type": "code",
   "execution_count": null,
   "id": "2c10b4f4-ee47-46fb-b02b-da4e06944713",
   "metadata": {},
   "outputs": [],
   "source": [
    "# Draw some samples to see how they look\n",
    "\n",
    "y_samples = batch_sample(\n",
    "    xyz_grid_norm,\n",
    "    gp_model,\n",
    "    y_train_sc,\n",
    "    batch_size=BATCH_SIZE,\n",
    "    cpu_device=CPU_DEVICE,\n",
    "    gpu_device=GPU_DEVICE,\n",
    "    key=jax.random.PRNGKey(32),\n",
    "    n_samples=1,\n",
    ")\n",
    "\n",
    "print(y_samples.shape)"
   ]
  },
  {
   "cell_type": "code",
   "execution_count": null,
   "id": "0a4ce8f3-a348-424e-8708-d4306541abaa",
   "metadata": {},
   "outputs": [],
   "source": [
    "y_samples_orig = np.exp(target_scaler.inverse_transform(y_samples))\n",
    "plt.figure(figsize=(6, 3), dpi=200)\n",
    "plt.hist(y_samples_orig, bins=30, log=True, ec=\"k\", fc=\"brown\", alpha=0.9)\n",
    "plt.xlabel(\"Mean Cu (%)\")\n",
    "plt.title(\"Grid: Mean Copper composition (%)\")"
   ]
  },
  {
   "cell_type": "code",
   "execution_count": null,
   "id": "4b28abbf-7fe3-4032-8c5f-0d8f2ff47c3b",
   "metadata": {},
   "outputs": [],
   "source": [
    "# Preprocessing for compatibility with Paraview\n",
    "\n",
    "df_grid = pd.DataFrame(xyz_grid, columns=[\"x_norm\", \"y_norm\", \"z_norm\"])\n",
    "df_grid[\"cu_pred_perc\"] = y_grid_mean_orig\n",
    "df_grid[\"std\"] = y_grid_std_orig\n",
    "df_grid[\"cu_pred_sample\"] = y_samples_orig\n",
    "df_grid = df_grid.sort_values([\"z_norm\", \"y_norm\", \"x_norm\"]).reset_index(drop=True)\n",
    "df_grid.to_csv(\"../cache/df_preds_grid.csv\", index=False)"
   ]
  }
 ],
 "metadata": {
  "kernelspec": {
   "display_name": "Python 3 (ipykernel)",
   "language": "python",
   "name": "python3"
  },
  "language_info": {
   "codemirror_mode": {
    "name": "ipython",
    "version": 3
   },
   "file_extension": ".py",
   "mimetype": "text/x-python",
   "name": "python",
   "nbconvert_exporter": "python",
   "pygments_lexer": "ipython3",
   "version": "3.10.14"
  }
 },
 "nbformat": 4,
 "nbformat_minor": 5
}
