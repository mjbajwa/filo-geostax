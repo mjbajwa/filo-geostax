{
 "cells": [
  {
   "cell_type": "code",
   "execution_count": 3,
   "id": "9a8c2ce9-5593-4268-a267-c30eba1ce1c1",
   "metadata": {},
   "outputs": [],
   "source": [
    "# Load Libraries\n",
    "\n",
    "import sys\n",
    "\n",
    "import matplotlib.pyplot as plt\n",
    "import numpy as np\n",
    "import pandas as pd\n",
    "import plotly.express as px\n",
    "import plotly.io as pio\n",
    "import yaml\n",
    "\n",
    "sys.path.append(\"../src/\")\n",
    "\n",
    "from geostax.utils import grid\n",
    "from geostax.ingestion import read_data\n",
    "from geostax.utils.grid import make_cuboidal_grid, make_topographic_grid\n",
    "from geostax.utils.desurvey import bulk_trajectories, compute_trajectories, extract_xyz_assays\n",
    "from geostax.topography.naive_gp import gp_topography, gp_topo_check\n",
    "\n",
    "# Modify some package settings\n",
    "\n",
    "pio.renderers.default = \"browser\"\n",
    "pd.set_option(\"display.max_rows\", 100)\n",
    "pd.set_option(\"display.max_columns\", 100)\n",
    "# plt.style.use([\"ieee\"])"
   ]
  },
  {
   "cell_type": "code",
   "execution_count": 4,
   "id": "84712398-0b43-4663-b103-36f4d61ebbf0",
   "metadata": {},
   "outputs": [],
   "source": [
    "# Load path configuration file\n",
    "\n",
    "with open(\"../config/paths.yaml\") as stream:\n",
    "    try:\n",
    "        paths = yaml.safe_load(stream)\n",
    "    except yaml.YAMLError as exc:\n",
    "        print(exc)"
   ]
  },
  {
   "cell_type": "code",
   "execution_count": 5,
   "id": "0e22f4ea-784d-49d4-93a1-8ee8284a537a",
   "metadata": {},
   "outputs": [
    {
     "name": "stderr",
     "output_type": "stream",
     "text": [
      "100%|██████████| 342/342 [00:00<00:00, 603.20it/s]\n"
     ]
    },
    {
     "name": "stdout",
     "output_type": "stream",
     "text": [
      "(1000000, 3)\n",
      "(365484, 3)\n"
     ]
    }
   ],
   "source": [
    "# Main\n",
    "\n",
    "# Read data\n",
    "\n",
    "df_collars, df_survey, df_assays = read_data(paths)\n",
    "\n",
    "# Idiosyncratic preprocessing needed for collars dataset\n",
    "\n",
    "df_collars[\"season_start\"] = df_collars[\"Season\"].str.split(\"/\").str[0]  # .astype(int)\n",
    "df_collars[\"season_start\"] = df_collars[\"season_start\"].astype(float)\n",
    "df_collars[\"season_end\"] = df_collars[\"Season\"].str.split(\"/\").str[1]  # .astype(int)\n",
    "df_collars[\"season_end\"] = df_collars[\"season_end\"].astype(float)\n",
    "\n",
    "# Holes of interest\n",
    "\n",
    "holes_of_interest = df_collars[\"HOLE-ID\"].to_list()\n",
    "\n",
    "# Filter the survey data now\n",
    "\n",
    "df_survey_filt = df_survey.copy()\n",
    "\n",
    "# Compute trajectories of all drill holes\n",
    "\n",
    "df_traj = bulk_trajectories(df_survey, df_collars, holes_of_interest)\n",
    "\n",
    "# GP topography\n",
    "\n",
    "z_inferred, grid_data = gp_topography(df_traj, df_collars, res=100)\n",
    "fig = gp_topo_check(\n",
    "    grid_data[\"x_grid_all\"], \n",
    "    grid_data[\"y_grid_all\"], \n",
    "    z_inferred, \n",
    "    grid_data[\"x_obs\"], \n",
    "    grid_data[\"y_obs\"], \n",
    "    grid_data[\"z_obs\"]\n",
    ")\n",
    "fig.show()\n",
    "\n",
    "# Grid creation\n",
    "\n",
    "xyz_grid_r2, dz_implied, z_lowest_collar = make_cuboidal_grid(\n",
    "    df_traj, \n",
    "    z_inferred, \n",
    "    grid_data[\"x_grid\"], \n",
    "    grid_data[\"y_grid\"],\n",
    "    res=100\n",
    ")\n",
    "\n",
    "xyz_grid_r1 = make_topographic_grid(grid_data[\"xy_grid_all\"], dz_implied, z_lowest_collar, z_inferred)\n",
    "xyz_grid = np.vstack([xyz_grid_r1, xyz_grid_r2])\n",
    "# xyz_grid = np.vstack([xyz_grid_r2])\n",
    "with open(\"../cache/xyz_grid.npy\", \"wb\") as f:\n",
    "    np.save(f, xyz_grid)\n",
    "\n",
    "# Assay assignment to x, y, z\n",
    "\n",
    "df_assay_coords = extract_xyz_assays(df_traj, df_assays)\n",
    "df_assay_coords.to_parquet(\"../cache/df_assay_coords.parquet\")\n",
    "df_assay_coords.to_csv(\"../cache/df_assay_coords.csv\", index=False)"
   ]
  }
 ],
 "metadata": {
  "kernelspec": {
   "display_name": "Python 3 (ipykernel)",
   "language": "python",
   "name": "python3"
  },
  "language_info": {
   "codemirror_mode": {
    "name": "ipython",
    "version": 3
   },
   "file_extension": ".py",
   "mimetype": "text/x-python",
   "name": "python",
   "nbconvert_exporter": "python",
   "pygments_lexer": "ipython3",
   "version": "3.10.14"
  }
 },
 "nbformat": 4,
 "nbformat_minor": 5
}
